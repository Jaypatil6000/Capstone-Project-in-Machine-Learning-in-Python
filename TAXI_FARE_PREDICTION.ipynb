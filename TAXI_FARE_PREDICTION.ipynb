{
  "nbformat": 4,
  "nbformat_minor": 0,
  "metadata": {
    "colab": {
      "private_outputs": true,
      "provenance": []
    },
    "kernelspec": {
      "name": "python3",
      "display_name": "Python 3"
    },
    "language_info": {
      "name": "python"
    }
  },
  "cells": [
    {
      "cell_type": "code",
      "execution_count": null,
      "metadata": {
        "id": "80TSWqP5X4Ta"
      },
      "outputs": [],
      "source": [
        "import pandas as pd\n",
        "import numpy as np\n",
        "import matplotlib.pyplot as plt\n",
        "%matplotlib inline\n",
        "import seaborn as sns\n",
        "from sklearn.model_selection import train_test_split\n",
        "from sklearn.linear_model import LinearRegression\n",
        "from sklearn.metrics import mean_squared_error\n",
        "from geopy import distance"
      ]
    },
    {
      "cell_type": "code",
      "source": [
        "# Load the data into a Pandas DataFrame\n",
        "df = pd.read_csv('https://raw.githubusercontent.com/Premalatha-success/Datasets/main/TaxiFare.csv',encoding='utf-8')\n",
        "#show the first few rows of the DataFrame"
      ],
      "metadata": {
        "id": "CWbNN7oJYHcK"
      },
      "execution_count": null,
      "outputs": []
    },
    {
      "cell_type": "code",
      "source": [
        "#show the first few rows of the DataFrame\n",
        "df.head()"
      ],
      "metadata": {
        "id": "bOM8US6BYLHB"
      },
      "execution_count": null,
      "outputs": []
    },
    {
      "cell_type": "code",
      "source": [
        "df.dtypes"
      ],
      "metadata": {
        "id": "Condr0fwYPj6"
      },
      "execution_count": null,
      "outputs": []
    },
    {
      "cell_type": "code",
      "source": [
        "# Remove any rows with missing values\n",
        "df.dropna(inplace=True)"
      ],
      "metadata": {
        "id": "N68e9WAhYYGj"
      },
      "execution_count": null,
      "outputs": []
    },
    {
      "cell_type": "code",
      "source": [
        "# Convert the pickup and dropoff coordinates to (lat, long) tuples\n",
        "pickup_coords = df[['longitude_of_pickup','latitude_of_pickup']].values\n",
        "dropoff_coords = df[['longitude_of_dropoff','latitude_of_dropoff']].values"
      ],
      "metadata": {
        "id": "KLrHH0lvYZti"
      },
      "execution_count": null,
      "outputs": []
    },
    {
      "cell_type": "code",
      "source": [
        "# Calculate the distance between pickup and dropoff points using geopy's distance function\n",
        "distances = [distance.distance(pickup_coords[i], dropoff_coords[i]).km for i in range(len(df))]\n",
        "df.loc[:, 'distance'] = distances"
      ],
      "metadata": {
        "id": "xdaOtpiXYdLK"
      },
      "execution_count": null,
      "outputs": []
    },
    {
      "cell_type": "code",
      "source": [
        "# Convert pickup_datetime column to datetime type and extract datetime features\n",
        "df.loc[:, 'date_time_of_pickup'] = pd.to_datetime(df['date_time_of_pickup'])\n",
        "df.loc[:, 'hour'] = df['date_time_of_pickup'].dt.hour\n",
        "df.loc[:, 'day'] = df['date_time_of_pickup'].dt.day\n",
        "df.loc[:, 'month'] = df['date_time_of_pickup'].dt.month"
      ],
      "metadata": {
        "id": "mt524UzSYixt"
      },
      "execution_count": null,
      "outputs": []
    },
    {
      "cell_type": "code",
      "source": [
        "# Convert relevant columns to numeric data types\n",
        "df = df.apply(pd.to_numeric, errors='coerce', downcast='float')"
      ],
      "metadata": {
        "id": "uzOhkVGtYnD8"
      },
      "execution_count": null,
      "outputs": []
    },
    {
      "cell_type": "code",
      "source": [
        "df.dtypes"
      ],
      "metadata": {
        "id": "HwivTMS5YqDs"
      },
      "execution_count": null,
      "outputs": []
    },
    {
      "cell_type": "code",
      "source": [
        "# Remove any rows with fare_amount <= 0\n",
        "df = df.loc[df['amount'] > 0]"
      ],
      "metadata": {
        "id": "3croOJaLYuwt"
      },
      "execution_count": null,
      "outputs": []
    },
    {
      "cell_type": "code",
      "source": [
        "# Plot the distribution of the amount column\n",
        "sns.displot(df['amount'])"
      ],
      "metadata": {
        "id": "_fF5VUJYYwWG"
      },
      "execution_count": null,
      "outputs": []
    },
    {
      "cell_type": "code",
      "source": [
        "# Remove any rows with amount <= 0\n",
        "df = df[df['amount'] > 0]"
      ],
      "metadata": {
        "id": "CDCv0foPY1fP"
      },
      "execution_count": null,
      "outputs": []
    },
    {
      "cell_type": "code",
      "source": [
        "df.drop('unique_id', axis=1)\n",
        "df.dtypes"
      ],
      "metadata": {
        "id": "B0-ugjNPY3TW"
      },
      "execution_count": null,
      "outputs": []
    },
    {
      "cell_type": "code",
      "source": [
        "df.fillna(0, inplace=True)  # fill missing values with 0"
      ],
      "metadata": {
        "id": "Wi3l61WfY8k3"
      },
      "execution_count": null,
      "outputs": []
    },
    {
      "cell_type": "code",
      "source": [
        "# Split the data into training and testing sets\n",
        "X = df.drop('amount', axis=1)\n",
        "y = df['amount']\n",
        "X_train, X_test, y_train, y_test = train_test_split(X, y, test_size=0.3, random_state=42)"
      ],
      "metadata": {
        "id": "COnZOYNNY-Cv"
      },
      "execution_count": null,
      "outputs": []
    },
    {
      "cell_type": "code",
      "source": [
        "#For rescalling the data\n",
        "from sklearn.preprocessing import StandardScaler\n",
        "\n",
        "scaler = StandardScaler()\n",
        "df_scaled = scaler.fit_transform(df)"
      ],
      "metadata": {
        "id": "ercoI3s_Y-GC"
      },
      "execution_count": null,
      "outputs": []
    },
    {
      "cell_type": "code",
      "source": [
        "# Train a linear regression model\n",
        "model = LinearRegression()\n",
        "model.fit(X_train, y_train)"
      ],
      "metadata": {
        "id": "2TX1M6W7ZHz3"
      },
      "execution_count": null,
      "outputs": []
    },
    {
      "cell_type": "code",
      "source": [
        "LinearRegression()"
      ],
      "metadata": {
        "id": "Z0KdaQ1lZLcg"
      },
      "execution_count": null,
      "outputs": []
    },
    {
      "cell_type": "code",
      "source": [
        "# Make predictions on the testing set\n",
        "y_pred = model.predict(X_test)"
      ],
      "metadata": {
        "id": "KiVwkNe-ZPR4"
      },
      "execution_count": null,
      "outputs": []
    },
    {
      "cell_type": "code",
      "source": [
        "# Compute the root mean squared error (RMSE)\n",
        "rmse = np.sqrt(mean_squared_error(y_test, y_pred))\n",
        "print(\"RMSE:\", rmse)"
      ],
      "metadata": {
        "id": "8I-65XJSZSoJ"
      },
      "execution_count": null,
      "outputs": []
    },
    {
      "cell_type": "code",
      "source": [
        "# Plot the predicted vs. actual fares\n",
        "plt.scatter(y_test, y_pred)\n",
        "plt.xlabel(\"Actual Fare\")\n",
        "plt.ylabel(\"Predicted Fare\")\n",
        "plt.show()"
      ],
      "metadata": {
        "id": "5b1Qeq6DZXeR"
      },
      "execution_count": null,
      "outputs": []
    }
  ]
}